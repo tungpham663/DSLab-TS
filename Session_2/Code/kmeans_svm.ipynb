{
 "cells": [
  {
   "cell_type": "code",
   "execution_count": 1,
   "metadata": {},
   "outputs": [],
   "source": [
    "import numpy as np"
   ]
  },
  {
   "attachments": {},
   "cell_type": "markdown",
   "metadata": {},
   "source": [
    "<h3>1. Data:</h3>"
   ]
  },
  {
   "cell_type": "code",
   "execution_count": 2,
   "metadata": {},
   "outputs": [],
   "source": [
    "def load_data(data_path=\"/Users/Admin/DSLab Training sessions/Session_2/data/\"):\n",
    "#get the list of tfidf values of a sparse_r_d\n",
    "    def sparse_to_dense(sparse_r_d,vocab_size):\n",
    "        r_d = [0.0 for _ in range(vocab_size)]\n",
    "        indices_tfidfs = sparse_r_d.split()\n",
    "        #store tfidf values in initialized r_d\n",
    "        for index_tfidf in indices_tfidfs:\n",
    "            index = int(index_tfidf.split(':')[0])\n",
    "            tfidf = float(index_tfidf.split(':')[1])\n",
    "            r_d[index] = tfidf\n",
    "        return np.array(r_d)\n",
    "    \n",
    "    #read data and vocab_size\n",
    "    with open(data_path + \"data_tf_idf.txt\") as f:\n",
    "        d_lines = f.read().splitlines()\n",
    "    with open(data_path + \"words_idfs.txt\") as f:\n",
    "        vocab_size = len(f.read().splitlines())\n",
    "    data, labels=[], []\n",
    "    #crawl data set and labels set\n",
    "    for data_id, d in enumerate(d_lines):\n",
    "        features = d.split('<fff>')\n",
    "        label, doc_id = int(features[0]), int(features[1])\n",
    "        r_d = sparse_to_dense(sparse_r_d = features[2], vocab_size=vocab_size)\n",
    "        #add to data and labels\n",
    "        data.append(r_d)\n",
    "        labels.append(label)\n",
    "    return data, np.array(labels)"
   ]
  },
  {
   "cell_type": "code",
   "execution_count": 4,
   "metadata": {},
   "outputs": [],
   "source": [
    "#load data\n",
    "X,y = load_data()\n",
    "#train set and test set split\n",
    "from sklearn.model_selection import train_test_split\n",
    "X_train, X_test, y_train, y_test = train_test_split(X,y,random_state=42)\n",
    "# Use csr_matrix to create a sparse matrix with efficient row slicing\n",
    "# Improve time to computing\n",
    "from scipy.sparse import csr_matrix\n",
    "X_train=csr_matrix(X_train)"
   ]
  },
  {
   "attachments": {},
   "cell_type": "markdown",
   "metadata": {},
   "source": [
    "<h3>2. Accuracy:</h3>"
   ]
  },
  {
   "cell_type": "code",
   "execution_count": 5,
   "metadata": {},
   "outputs": [],
   "source": [
    "#evaluate accuracy\n",
    "def compute_accuracy(prediced_y,expected_y):\n",
    "    matches = np.equal(prediced_y,expected_y)\n",
    "    accuracy = np.sum(matches.astype(float)) / expected_y.size\n",
    "    return accuracy"
   ]
  },
  {
   "attachments": {},
   "cell_type": "markdown",
   "metadata": {},
   "source": [
    "<h3>3. Kmeans:</h3>"
   ]
  },
  {
   "cell_type": "code",
   "execution_count": 6,
   "metadata": {},
   "outputs": [],
   "source": [
    "from sklearn.cluster import KMeans\n",
    "kmeans = KMeans(random_state=42,\n",
    "                tol = 1e-3,\n",
    "                n_init = 5).fit(X_train)"
   ]
  },
  {
   "cell_type": "code",
   "execution_count": 7,
   "metadata": {},
   "outputs": [
    {
     "name": "stdout",
     "output_type": "stream",
     "text": [
      "Accuracy: 0.052207130730050934\n"
     ]
    }
   ],
   "source": [
    "predicted_y_kmeans = kmeans.predict(X_test)\n",
    "accuracy_kmeans = compute_accuracy(prediced_y=predicted_y_kmeans,expected_y=y_test)\n",
    "print(\"Accuracy: {}\".format(accuracy_kmeans))"
   ]
  },
  {
   "attachments": {},
   "cell_type": "markdown",
   "metadata": {},
   "source": [
    "<h3>4. SVM:</h3>"
   ]
  },
  {
   "attachments": {},
   "cell_type": "markdown",
   "metadata": {},
   "source": [
    "<h4>4.1. Linear SVMs:</h4>"
   ]
  },
  {
   "cell_type": "code",
   "execution_count": 8,
   "metadata": {},
   "outputs": [],
   "source": [
    "#load data\n",
    "X,y = load_data()\n",
    "#training set and test set split\n",
    "from sklearn.model_selection import train_test_split\n",
    "X_train, X_test, y_train, y_test = train_test_split(X,y,random_state = 78)\n",
    "# Use csr_matrix to create a sparse matrix with efficient row slicing\n",
    "# Improve time to computing\n",
    "from scipy.sparse import csr_matrix\n",
    "X_train=csr_matrix(X_train)"
   ]
  },
  {
   "cell_type": "code",
   "execution_count": 9,
   "metadata": {},
   "outputs": [
    {
     "name": "stdout",
     "output_type": "stream",
     "text": [
      "[LibLinear]"
     ]
    },
    {
     "data": {
      "text/plain": [
       "0.9123514431239389"
      ]
     },
     "execution_count": 9,
     "metadata": {},
     "output_type": "execute_result"
    }
   ],
   "source": [
    "from sklearn.svm import LinearSVC\n",
    "#use linearSVC model\n",
    "classifier = LinearSVC(\n",
    "    C=10.0,\n",
    "    tol = 0.001,\n",
    "    verbose=True\n",
    ").fit(X_train,y_train)\n",
    "#test the accuracy\n",
    "predicted_y_svm = classifier.predict(X_test)\n",
    "accuracy_linearsvms = compute_accuracy(prediced_y=predicted_y_svm, expected_y=y_test)\n",
    "accuracy_linearsvms"
   ]
  },
  {
   "attachments": {},
   "cell_type": "markdown",
   "metadata": {},
   "source": [
    "<h4>4.2. Kernel SVMs:</h4>"
   ]
  },
  {
   "cell_type": "code",
   "execution_count": 10,
   "metadata": {},
   "outputs": [],
   "source": [
    "#load data\n",
    "X,y = load_data()\n",
    "#train test split\n",
    "from sklearn.model_selection import train_test_split\n",
    "X_train, X_test, y_train, y_test = train_test_split(X,y,random_state = 79)\n",
    "# Use csr_matrix to create a sparse matrix with efficient row slicing\n",
    "# Improve time to computing\n",
    "from scipy.sparse import csr_matrix\n",
    "X_train=csr_matrix(X_train)"
   ]
  },
  {
   "cell_type": "code",
   "execution_count": 11,
   "metadata": {},
   "outputs": [
    {
     "name": "stdout",
     "output_type": "stream",
     "text": [
      "[LibSVM]Accuracy: 0.9779286926994907\n"
     ]
    }
   ],
   "source": [
    "from sklearn.svm import SVC\n",
    "classifier_ker = SVC(\n",
    "    C=50.0,\n",
    "    kernel='rbf', #{‘linear’, ‘poly’, ‘rbf’, ‘sigmoid’, ‘precomputed’}\n",
    "    gamma=0.1,\n",
    "    tol=0.001,\n",
    "    verbose=True\n",
    ").fit(X_train,y_train)\n",
    "predicted_y_svc = classifier.predict(X_test)\n",
    "accuracy_svc = compute_accuracy(prediced_y=predicted_y_svc, expected_y=y_test)\n",
    "print(\"Accuracy: {}\".format(accuracy_svc))"
   ]
  }
 ],
 "metadata": {
  "kernelspec": {
   "display_name": "Python 3",
   "language": "python",
   "name": "python3"
  },
  "language_info": {
   "codemirror_mode": {
    "name": "ipython",
    "version": 3
   },
   "file_extension": ".py",
   "mimetype": "text/x-python",
   "name": "python",
   "nbconvert_exporter": "python",
   "pygments_lexer": "ipython3",
   "version": "3.10.4"
  },
  "orig_nbformat": 4,
  "vscode": {
   "interpreter": {
    "hash": "a42ccb73e7d9bfdf27e036f1d2b8b681e55fc0743cc5586bc2474d4a60f4b886"
   }
  }
 },
 "nbformat": 4,
 "nbformat_minor": 2
}
