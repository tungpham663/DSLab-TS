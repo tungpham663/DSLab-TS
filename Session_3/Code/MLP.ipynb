{
  "nbformat": 4,
  "nbformat_minor": 0,
  "metadata": {
    "colab": {
      "provenance": []
    },
    "kernelspec": {
      "name": "python3",
      "display_name": "Python 3"
    },
    "language_info": {
      "name": "python"
    },
    "accelerator": "GPU",
    "gpuClass": "standard"
  },
  "cells": [
    {
      "cell_type": "code",
      "source": [
        "from google.colab import drive\n",
        "drive.mount('/content/drive/')"
      ],
      "metadata": {
        "colab": {
          "base_uri": "https://localhost:8080/"
        },
        "id": "6RPXaq2qZTr7",
        "outputId": "2068bc96-158d-4aeb-a1a2-16e8eb197bc4"
      },
      "execution_count": 1,
      "outputs": [
        {
          "output_type": "stream",
          "name": "stdout",
          "text": [
            "Mounted at /content/drive/\n"
          ]
        }
      ]
    },
    {
      "cell_type": "code",
      "source": [
        "# import libraries \n",
        "from tensorflow import keras\n",
        "import numpy as np\n",
        "import pandas as pd\n",
        "import matplotlib.pyplot as plt"
      ],
      "metadata": {
        "id": "1koGk61_Z0Qu"
      },
      "execution_count": 2,
      "outputs": []
    },
    {
      "cell_type": "code",
      "source": [
        "def load_data(data_path=\"/content/drive/MyDrive/Data /\"):\n",
        "#get the list of tfidf values of a sparse_r_d\n",
        "    def sparse_to_dense(sparse_r_d,vocab_size):\n",
        "        r_d = [0.0 for _ in range(vocab_size)]\n",
        "        indices_tfidfs = sparse_r_d.split()\n",
        "        #store tfidf values in initialized r_d\n",
        "        for index_tfidf in indices_tfidfs:\n",
        "            index = int(index_tfidf.split(':')[0])\n",
        "            tfidf = float(index_tfidf.split(':')[1])\n",
        "            r_d[index] = tfidf\n",
        "        return np.array(r_d)\n",
        "    \n",
        "    #read data and vocab_size\n",
        "    with open(data_path + \"data_tf_idf.txt\",errors=\"ignore\") as f:\n",
        "        d_lines = f.read().splitlines()\n",
        "    with open(data_path + \"words_idfs.txt\",errors=\"ignore\") as f:\n",
        "        vocab_size = len(f.read().splitlines())\n",
        "    data, labels=[], []\n",
        "    #crawl data set and labels set\n",
        "    for data_id, d in enumerate(d_lines):\n",
        "        features = d.split('<fff>')\n",
        "        label, doc_id = int(features[0]), int(features[1])\n",
        "        r_d = sparse_to_dense(sparse_r_d = features[2], vocab_size=vocab_size)\n",
        "        #add to data and labels\n",
        "        data.append(r_d)\n",
        "        labels.append(label)\n",
        "    return np.array(data), np.array(labels)"
      ],
      "metadata": {
        "id": "7orDU6Eq3ETo"
      },
      "execution_count": 5,
      "outputs": []
    },
    {
      "cell_type": "code",
      "source": [
        "#load data\n",
        "X,y = load_data()\n",
        "\n",
        "#split data\n",
        "from sklearn.model_selection import train_test_split\n",
        "X_train, X_test, y_train, y_test = train_test_split(X, y, test_size=0.2, random_state=1)\n",
        "X_train, X_val, y_train, y_val = train_test_split(X_train, y_train, test_size = 0.25, random_state=1)"
      ],
      "metadata": {
        "id": "N9SDrxsE33nB"
      },
      "execution_count": 6,
      "outputs": []
    },
    {
      "cell_type": "code",
      "source": [
        "model = keras.models.Sequential([\n",
        "    keras.layers.Flatten(input_shape = X_train.shape[1:]),\n",
        "    keras.layers.Dense(100, activation = \"relu\"),\n",
        "    keras.layers.Dense(50, activation = \"relu\"),\n",
        "    keras.layers.Dense(20, activation = \"softmax\")])\n",
        "model.summary()"
      ],
      "metadata": {
        "colab": {
          "base_uri": "https://localhost:8080/"
        },
        "id": "qaebXqYe3_oV",
        "outputId": "42ad69e6-f8b9-4925-8634-69d4db41eabc"
      },
      "execution_count": 7,
      "outputs": [
        {
          "output_type": "stream",
          "name": "stdout",
          "text": [
            "Model: \"sequential\"\n",
            "_________________________________________________________________\n",
            " Layer (type)                Output Shape              Param #   \n",
            "=================================================================\n",
            " flatten (Flatten)           (None, 14234)             0         \n",
            "                                                                 \n",
            " dense (Dense)               (None, 100)               1423500   \n",
            "                                                                 \n",
            " dense_1 (Dense)             (None, 50)                5050      \n",
            "                                                                 \n",
            " dense_2 (Dense)             (None, 20)                1020      \n",
            "                                                                 \n",
            "=================================================================\n",
            "Total params: 1,429,570\n",
            "Trainable params: 1,429,570\n",
            "Non-trainable params: 0\n",
            "_________________________________________________________________\n"
          ]
        }
      ]
    },
    {
      "cell_type": "code",
      "source": [
        "model.compile(loss = \"sparse_categorical_crossentropy\",\n",
        "              optimizer = \"sgd\",\n",
        "              metrics=[\"accuracy\"])\n",
        "\n",
        "history = model.fit(X_train, y_train,\n",
        "                    epochs=50,\n",
        "                    validation_data = (X_val,y_val))"
      ],
      "metadata": {
        "colab": {
          "base_uri": "https://localhost:8080/"
        },
        "id": "7jxo0w6K_7DJ",
        "outputId": "5bfb69a4-9aa1-4245-9ee7-5000e2ba8946"
      },
      "execution_count": 10,
      "outputs": [
        {
          "output_type": "stream",
          "name": "stdout",
          "text": [
            "Epoch 1/50\n",
            "354/354 [==============================] - 2s 5ms/step - loss: 2.4038 - accuracy: 0.6156 - val_loss: 2.4052 - val_accuracy: 0.5890\n",
            "Epoch 2/50\n",
            "354/354 [==============================] - 2s 5ms/step - loss: 2.3109 - accuracy: 0.6301 - val_loss: 2.3150 - val_accuracy: 0.6110\n",
            "Epoch 3/50\n",
            "354/354 [==============================] - 1s 4ms/step - loss: 2.2109 - accuracy: 0.6600 - val_loss: 2.2186 - val_accuracy: 0.6336\n",
            "Epoch 4/50\n",
            "354/354 [==============================] - 1s 4ms/step - loss: 2.1073 - accuracy: 0.6780 - val_loss: 2.1207 - val_accuracy: 0.6540\n",
            "Epoch 5/50\n",
            "354/354 [==============================] - 1s 4ms/step - loss: 2.0026 - accuracy: 0.7059 - val_loss: 2.0236 - val_accuracy: 0.6699\n",
            "Epoch 6/50\n",
            "354/354 [==============================] - 1s 4ms/step - loss: 1.8989 - accuracy: 0.7201 - val_loss: 1.9269 - val_accuracy: 0.6954\n",
            "Epoch 7/50\n",
            "354/354 [==============================] - 1s 4ms/step - loss: 1.7974 - accuracy: 0.7328 - val_loss: 1.8336 - val_accuracy: 0.7031\n",
            "Epoch 8/50\n",
            "354/354 [==============================] - 1s 4ms/step - loss: 1.6995 - accuracy: 0.7482 - val_loss: 1.7431 - val_accuracy: 0.7169\n",
            "Epoch 9/50\n",
            "354/354 [==============================] - 1s 4ms/step - loss: 1.6052 - accuracy: 0.7540 - val_loss: 1.6567 - val_accuracy: 0.7246\n",
            "Epoch 10/50\n",
            "354/354 [==============================] - 1s 4ms/step - loss: 1.5145 - accuracy: 0.7694 - val_loss: 1.5757 - val_accuracy: 0.7188\n",
            "Epoch 11/50\n",
            "354/354 [==============================] - 1s 4ms/step - loss: 1.4272 - accuracy: 0.7736 - val_loss: 1.4994 - val_accuracy: 0.7233\n",
            "Epoch 12/50\n",
            "354/354 [==============================] - 1s 4ms/step - loss: 1.3443 - accuracy: 0.7860 - val_loss: 1.4172 - val_accuracy: 0.7461\n",
            "Epoch 13/50\n",
            "354/354 [==============================] - 1s 4ms/step - loss: 1.2652 - accuracy: 0.7956 - val_loss: 1.3471 - val_accuracy: 0.7548\n",
            "Epoch 14/50\n",
            "354/354 [==============================] - 1s 4ms/step - loss: 1.1907 - accuracy: 0.8050 - val_loss: 1.2780 - val_accuracy: 0.7663\n",
            "Epoch 15/50\n",
            "354/354 [==============================] - 1s 4ms/step - loss: 1.1206 - accuracy: 0.8127 - val_loss: 1.2205 - val_accuracy: 0.7694\n",
            "Epoch 16/50\n",
            "354/354 [==============================] - 1s 4ms/step - loss: 1.0548 - accuracy: 0.8231 - val_loss: 1.1563 - val_accuracy: 0.7803\n",
            "Epoch 17/50\n",
            "354/354 [==============================] - 1s 4ms/step - loss: 0.9937 - accuracy: 0.8315 - val_loss: 1.1049 - val_accuracy: 0.7771\n",
            "Epoch 18/50\n",
            "354/354 [==============================] - 1s 4ms/step - loss: 0.9373 - accuracy: 0.8366 - val_loss: 1.0572 - val_accuracy: 0.7933\n",
            "Epoch 19/50\n",
            "354/354 [==============================] - 1s 4ms/step - loss: 0.8851 - accuracy: 0.8444 - val_loss: 1.0152 - val_accuracy: 0.7875\n",
            "Epoch 20/50\n",
            "354/354 [==============================] - 2s 5ms/step - loss: 0.8369 - accuracy: 0.8491 - val_loss: 0.9668 - val_accuracy: 0.7978\n",
            "Epoch 21/50\n",
            "354/354 [==============================] - 1s 4ms/step - loss: 0.7923 - accuracy: 0.8572 - val_loss: 0.9301 - val_accuracy: 0.8010\n",
            "Epoch 22/50\n",
            "354/354 [==============================] - 1s 4ms/step - loss: 0.7514 - accuracy: 0.8619 - val_loss: 0.8966 - val_accuracy: 0.8045\n",
            "Epoch 23/50\n",
            "354/354 [==============================] - 1s 4ms/step - loss: 0.7132 - accuracy: 0.8668 - val_loss: 0.8630 - val_accuracy: 0.8042\n",
            "Epoch 24/50\n",
            "354/354 [==============================] - 1s 4ms/step - loss: 0.6780 - accuracy: 0.8703 - val_loss: 0.8366 - val_accuracy: 0.8111\n",
            "Epoch 25/50\n",
            "354/354 [==============================] - 1s 4ms/step - loss: 0.6455 - accuracy: 0.8768 - val_loss: 0.8054 - val_accuracy: 0.8177\n",
            "Epoch 26/50\n",
            "354/354 [==============================] - 1s 4ms/step - loss: 0.6149 - accuracy: 0.8810 - val_loss: 0.7798 - val_accuracy: 0.8172\n",
            "Epoch 27/50\n",
            "354/354 [==============================] - 1s 4ms/step - loss: 0.5866 - accuracy: 0.8867 - val_loss: 0.7567 - val_accuracy: 0.8185\n",
            "Epoch 28/50\n",
            "354/354 [==============================] - 1s 4ms/step - loss: 0.5601 - accuracy: 0.8902 - val_loss: 0.7351 - val_accuracy: 0.8230\n",
            "Epoch 29/50\n",
            "354/354 [==============================] - 1s 4ms/step - loss: 0.5353 - accuracy: 0.8942 - val_loss: 0.7172 - val_accuracy: 0.8254\n",
            "Epoch 30/50\n",
            "354/354 [==============================] - 1s 4ms/step - loss: 0.5121 - accuracy: 0.8985 - val_loss: 0.7010 - val_accuracy: 0.8286\n",
            "Epoch 31/50\n",
            "354/354 [==============================] - 1s 4ms/step - loss: 0.4903 - accuracy: 0.9040 - val_loss: 0.6823 - val_accuracy: 0.8305\n",
            "Epoch 32/50\n",
            "354/354 [==============================] - 1s 4ms/step - loss: 0.4703 - accuracy: 0.9066 - val_loss: 0.6654 - val_accuracy: 0.8379\n",
            "Epoch 33/50\n",
            "354/354 [==============================] - 1s 4ms/step - loss: 0.4505 - accuracy: 0.9108 - val_loss: 0.6530 - val_accuracy: 0.8344\n",
            "Epoch 34/50\n",
            "354/354 [==============================] - 1s 4ms/step - loss: 0.4323 - accuracy: 0.9172 - val_loss: 0.6398 - val_accuracy: 0.8368\n",
            "Epoch 35/50\n",
            "354/354 [==============================] - 1s 4ms/step - loss: 0.4149 - accuracy: 0.9190 - val_loss: 0.6267 - val_accuracy: 0.8411\n",
            "Epoch 36/50\n",
            "354/354 [==============================] - 1s 4ms/step - loss: 0.3987 - accuracy: 0.9241 - val_loss: 0.6140 - val_accuracy: 0.8451\n",
            "Epoch 37/50\n",
            "354/354 [==============================] - 1s 4ms/step - loss: 0.3832 - accuracy: 0.9272 - val_loss: 0.6091 - val_accuracy: 0.8469\n",
            "Epoch 38/50\n",
            "354/354 [==============================] - 1s 4ms/step - loss: 0.3684 - accuracy: 0.9303 - val_loss: 0.5977 - val_accuracy: 0.8408\n",
            "Epoch 39/50\n",
            "354/354 [==============================] - 1s 4ms/step - loss: 0.3542 - accuracy: 0.9328 - val_loss: 0.5846 - val_accuracy: 0.8477\n",
            "Epoch 40/50\n",
            "354/354 [==============================] - 1s 4ms/step - loss: 0.3414 - accuracy: 0.9368 - val_loss: 0.5752 - val_accuracy: 0.8458\n",
            "Epoch 41/50\n",
            "354/354 [==============================] - 1s 4ms/step - loss: 0.3283 - accuracy: 0.9406 - val_loss: 0.5734 - val_accuracy: 0.8474\n",
            "Epoch 42/50\n",
            "354/354 [==============================] - 1s 4ms/step - loss: 0.3162 - accuracy: 0.9425 - val_loss: 0.5611 - val_accuracy: 0.8520\n",
            "Epoch 43/50\n",
            "354/354 [==============================] - 1s 4ms/step - loss: 0.3048 - accuracy: 0.9453 - val_loss: 0.5515 - val_accuracy: 0.8533\n",
            "Epoch 44/50\n",
            "354/354 [==============================] - 1s 4ms/step - loss: 0.2936 - accuracy: 0.9481 - val_loss: 0.5439 - val_accuracy: 0.8557\n",
            "Epoch 45/50\n",
            "354/354 [==============================] - 1s 4ms/step - loss: 0.2829 - accuracy: 0.9504 - val_loss: 0.5368 - val_accuracy: 0.8551\n",
            "Epoch 46/50\n",
            "354/354 [==============================] - 1s 4ms/step - loss: 0.2732 - accuracy: 0.9517 - val_loss: 0.5319 - val_accuracy: 0.8570\n",
            "Epoch 47/50\n",
            "354/354 [==============================] - 1s 4ms/step - loss: 0.2632 - accuracy: 0.9559 - val_loss: 0.5264 - val_accuracy: 0.8591\n",
            "Epoch 48/50\n",
            "354/354 [==============================] - 1s 4ms/step - loss: 0.2537 - accuracy: 0.9576 - val_loss: 0.5200 - val_accuracy: 0.8578\n",
            "Epoch 49/50\n",
            "354/354 [==============================] - 1s 4ms/step - loss: 0.2449 - accuracy: 0.9582 - val_loss: 0.5168 - val_accuracy: 0.8628\n",
            "Epoch 50/50\n",
            "354/354 [==============================] - 1s 4ms/step - loss: 0.2367 - accuracy: 0.9598 - val_loss: 0.5115 - val_accuracy: 0.8634\n"
          ]
        }
      ]
    },
    {
      "cell_type": "code",
      "source": [
        "model.evaluate(X_test, y_test)"
      ],
      "metadata": {
        "colab": {
          "base_uri": "https://localhost:8080/"
        },
        "id": "v1fIO7kGDMjW",
        "outputId": "5c1d332f-795c-4d47-bdeb-010a66b173aa"
      },
      "execution_count": 11,
      "outputs": [
        {
          "output_type": "stream",
          "name": "stdout",
          "text": [
            "118/118 [==============================] - 0s 3ms/step - loss: 0.5010 - accuracy: 0.8607\n"
          ]
        },
        {
          "output_type": "execute_result",
          "data": {
            "text/plain": [
              "[0.5009697079658508, 0.8607426881790161]"
            ]
          },
          "metadata": {},
          "execution_count": 11
        }
      ]
    },
    {
      "cell_type": "code",
      "source": [
        "pd.DataFrame(history.history).plot(figsize=(15,5));\n",
        "plt.grid(\"True\")"
      ],
      "metadata": {
        "id": "EHsNEDHkKkDr",
        "colab": {
          "base_uri": "https://localhost:8080/",
          "height": 322
        },
        "outputId": "535a51a2-c4fa-40ab-8252-cec97bc5bdc9"
      },
      "execution_count": 12,
      "outputs": [
        {
          "output_type": "display_data",
          "data": {
            "text/plain": [
              "<Figure size 1080x360 with 1 Axes>"
            ],
            "image/png": "[encoded data removed]"
          },
          "metadata": {
            "needs_background": "light"
          }
        }
      ]
    },
    {
      "cell_type": "code",
      "source": [
        "model.predict(X_test[:1])"
      ],
      "metadata": {
        "colab": {
          "base_uri": "https://localhost:8080/"
        },
        "id": "0MWCiHQvU8rg",
        "outputId": "7322c980-9a6f-4234-edf1-850adefe556e"
      },
      "execution_count": 13,
      "outputs": [
        {
          "output_type": "stream",
          "name": "stdout",
          "text": [
            "1/1 [==============================] - 0s 89ms/step\n"
          ]
        },
        {
          "output_type": "execute_result",
          "data": {
            "text/plain": [
              "array([[6.6762780e-08, 1.8221459e-06, 8.0150306e-07, 7.5501011e-06,\n",
              "        5.3138117e-04, 1.6032087e-06, 2.1484385e-03, 2.6661446e-05,\n",
              "        1.6544660e-04, 9.8757464e-01, 6.5176813e-03, 6.6849175e-08,\n",
              "        5.4229907e-04, 6.7010797e-06, 1.1088160e-04, 4.9610503e-07,\n",
              "        4.2794512e-05, 2.2957767e-03, 2.4857793e-05, 4.8127802e-08]],\n",
              "      dtype=float32)"
            ]
          },
          "metadata": {},
          "execution_count": 13
        }
      ]
    },
    {
      "cell_type": "code",
      "source": [
        "#return predict newsgroup\n",
        "np.argmax(model.predict(X_test[:1]),axis = -1)"
      ],
      "metadata": {
        "colab": {
          "base_uri": "https://localhost:8080/"
        },
        "id": "Yp_Zh_7CVUYA",
        "outputId": "f608633a-0349-4f58-a6cc-4d697cc48d44"
      },
      "execution_count": 16,
      "outputs": [
        {
          "output_type": "stream",
          "name": "stdout",
          "text": [
            "1/1 [==============================] - 0s 16ms/step\n"
          ]
        },
        {
          "output_type": "execute_result",
          "data": {
            "text/plain": [
              "array([9])"
            ]
          },
          "metadata": {},
          "execution_count": 16
        }
      ]
    }
  ]
}